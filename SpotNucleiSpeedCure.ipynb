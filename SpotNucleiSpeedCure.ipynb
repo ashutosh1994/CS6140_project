{
  "cells": [
    {
      "cell_type": "code",
      "execution_count": null,
      "metadata": {
        "colab": {
          "base_uri": "https://localhost:8080/"
        },
        "id": "TFkuK0az7cyS",
        "outputId": "14813b67-10bb-4c14-f6ae-5520687c9bc5"
      },
      "outputs": [
        {
          "name": "stdout",
          "output_type": "stream",
          "text": [
            "Collecting albumentations==0.4.6\n",
            "  Downloading albumentations-0.4.6.tar.gz (117 kB)\n",
            "\u001b[K     |████████████████████████████████| 117 kB 4.1 MB/s \n",
            "\u001b[?25hRequirement already satisfied: numpy>=1.11.1 in /usr/local/lib/python3.7/dist-packages (from albumentations==0.4.6) (1.21.6)\n",
            "Requirement already satisfied: scipy in /usr/local/lib/python3.7/dist-packages (from albumentations==0.4.6) (1.4.1)\n",
            "Collecting imgaug>=0.4.0\n",
            "  Downloading imgaug-0.4.0-py2.py3-none-any.whl (948 kB)\n",
            "\u001b[K     |████████████████████████████████| 948 kB 26.8 MB/s \n",
            "\u001b[?25hRequirement already satisfied: PyYAML in /usr/local/lib/python3.7/dist-packages (from albumentations==0.4.6) (3.13)\n",
            "Requirement already satisfied: opencv-python>=4.1.1 in /usr/local/lib/python3.7/dist-packages (from albumentations==0.4.6) (4.1.2.30)\n",
            "Requirement already satisfied: scikit-image>=0.14.2 in /usr/local/lib/python3.7/dist-packages (from imgaug>=0.4.0->albumentations==0.4.6) (0.18.3)\n",
            "Requirement already satisfied: imageio in /usr/local/lib/python3.7/dist-packages (from imgaug>=0.4.0->albumentations==0.4.6) (2.4.1)\n",
            "Requirement already satisfied: Shapely in /usr/local/lib/python3.7/dist-packages (from imgaug>=0.4.0->albumentations==0.4.6) (1.8.1.post1)\n",
            "Requirement already satisfied: matplotlib in /usr/local/lib/python3.7/dist-packages (from imgaug>=0.4.0->albumentations==0.4.6) (3.2.2)\n",
            "Requirement already satisfied: six in /usr/local/lib/python3.7/dist-packages (from imgaug>=0.4.0->albumentations==0.4.6) (1.15.0)\n",
            "Requirement already satisfied: Pillow in /usr/local/lib/python3.7/dist-packages (from imgaug>=0.4.0->albumentations==0.4.6) (7.1.2)\n",
            "Requirement already satisfied: PyWavelets>=1.1.1 in /usr/local/lib/python3.7/dist-packages (from scikit-image>=0.14.2->imgaug>=0.4.0->albumentations==0.4.6) (1.3.0)\n",
            "Requirement already satisfied: networkx>=2.0 in /usr/local/lib/python3.7/dist-packages (from scikit-image>=0.14.2->imgaug>=0.4.0->albumentations==0.4.6) (2.6.3)\n",
            "Requirement already satisfied: tifffile>=2019.7.26 in /usr/local/lib/python3.7/dist-packages (from scikit-image>=0.14.2->imgaug>=0.4.0->albumentations==0.4.6) (2021.11.2)\n",
            "Requirement already satisfied: python-dateutil>=2.1 in /usr/local/lib/python3.7/dist-packages (from matplotlib->imgaug>=0.4.0->albumentations==0.4.6) (2.8.2)\n",
            "Requirement already satisfied: pyparsing!=2.0.4,!=2.1.2,!=2.1.6,>=2.0.1 in /usr/local/lib/python3.7/dist-packages (from matplotlib->imgaug>=0.4.0->albumentations==0.4.6) (3.0.8)\n",
            "Requirement already satisfied: cycler>=0.10 in /usr/local/lib/python3.7/dist-packages (from matplotlib->imgaug>=0.4.0->albumentations==0.4.6) (0.11.0)\n",
            "Requirement already satisfied: kiwisolver>=1.0.1 in /usr/local/lib/python3.7/dist-packages (from matplotlib->imgaug>=0.4.0->albumentations==0.4.6) (1.4.2)\n",
            "Requirement already satisfied: typing-extensions in /usr/local/lib/python3.7/dist-packages (from kiwisolver>=1.0.1->matplotlib->imgaug>=0.4.0->albumentations==0.4.6) (4.2.0)\n",
            "Building wheels for collected packages: albumentations\n",
            "  Building wheel for albumentations (setup.py) ... \u001b[?25l\u001b[?25hdone\n",
            "  Created wheel for albumentations: filename=albumentations-0.4.6-py3-none-any.whl size=65174 sha256=e4a6535ffd1bfc9dfb7c43657ef3e9fcc27d44adc19155e94fd38bafe5d2d160\n",
            "  Stored in directory: /root/.cache/pip/wheels/cf/34/0f/cb2a5f93561a181a4bcc84847ad6aaceea8b5a3127469616cc\n",
            "Successfully built albumentations\n",
            "Installing collected packages: imgaug, albumentations\n",
            "  Attempting uninstall: imgaug\n",
            "    Found existing installation: imgaug 0.2.9\n",
            "    Uninstalling imgaug-0.2.9:\n",
            "      Successfully uninstalled imgaug-0.2.9\n",
            "  Attempting uninstall: albumentations\n",
            "    Found existing installation: albumentations 0.1.12\n",
            "    Uninstalling albumentations-0.1.12:\n",
            "      Successfully uninstalled albumentations-0.1.12\n",
            "Successfully installed albumentations-0.4.6 imgaug-0.4.0\n"
          ]
        }
      ],
      "source": [
        "!pip install albumentations==0.4.6"
      ]
    },
    {
      "cell_type": "code",
      "execution_count": 336,
      "metadata": {
        "id": "G2AUxBsf_RDm"
      },
      "outputs": [],
      "source": [
        "import pandas as pd\n",
        "import torchvision.models as models\n",
        "import os\n",
        "import matplotlib.pyplot as plt\n",
        "from torch.utils.data import Dataset, DataLoader\n",
        "from skimage import io, transform\n",
        "import seaborn as sns\n",
        "import torchvision\n",
        "import torch\n",
        "import torchvision.transforms as transforms\n",
        "import warnings\n",
        "import numpy as np\n",
        "import torchvision.ops as Ops\n",
        "from torchvision.transforms import ToTensor\n",
        "import torch.nn as nn\n",
        "import torch.nn.functional as F\n",
        "import torch.optim as optim\n",
        "from torch.utils.data import DataLoader\n",
        "import cv2\n",
        "import pandas as pd\n",
        "import seaborn as sns\n",
        "import spacy\n",
        "from tqdm import tqdm\n",
        "import albumentations as A\n",
        "import random\n",
        "import numpy as np\n",
        "warnings.filterwarnings(\"ignore\")\n",
        "device = torch.device(\"cuda\" if torch.cuda.is_available() else \"cpu\")"
      ]
    },
    {
      "cell_type": "code",
      "execution_count": null,
      "metadata": {
        "colab": {
          "base_uri": "https://localhost:8080/"
        },
        "id": "96I6FslI_cRE",
        "outputId": "f821e0f0-ade3-4cc9-ff82-e2a1b2671f71"
      },
      "outputs": [
        {
          "name": "stdout",
          "output_type": "stream",
          "text": [
            "Mounted at /content/drive\n"
          ]
        }
      ],
      "source": [
        "from google.colab import drive\n",
        "drive.mount('/content/drive')\n",
        "root_dir = '/content/drive/MyDrive/CS6140Dataset/'"
      ]
    },
    {
      "cell_type": "code",
      "execution_count": null,
      "metadata": {
        "colab": {
          "base_uri": "https://localhost:8080/"
        },
        "id": "iorHXGsQEOGt",
        "outputId": "30f6e709-db6b-4a8c-bc55-b3d3604ca167"
      },
      "outputs": [
        {
          "name": "stdout",
          "output_type": "stream",
          "text": [
            "cat: /content/drive/MyDrive/CS6140Dataset/dataset/: Is a directory\n"
          ]
        }
      ],
      "source": [
        "          !cat /content/drive/MyDrive/CS6140Dataset/dataset/\n"
      ]
    },
    {
      "cell_type": "markdown",
      "source": [
        "Data Gathering"
      ],
      "metadata": {
        "id": "oucDpVXJn7Ul"
      }
    },
    {
      "cell_type": "code",
      "execution_count": null,
      "metadata": {
        "id": "_4g03EqJ_RDq"
      },
      "outputs": [],
      "source": [
        "df = pd.read_csv('/content/drive/MyDrive/CS6140Dataset/dataset/dataset_list.csv')\n",
        "\n",
        "df = df.sample(frac=1)\n",
        "train_ = df.sample(frac=0.6)\n",
        "rest = df.drop(train_.index,axis=0).sample(frac=0.5)\n",
        "val_ = rest.iloc[:rest.shape[0]//2,:]\n",
        "test_ = rest.iloc[rest.shape[0]//2:,:]\n",
        "\n",
        "train_.to_csv('/content/drive/MyDrive/CS6140Dataset/dataset/train_list.csv', index=False)\n",
        "val_.to_csv('/content/drive/MyDrive/CS6140Dataset/dataset/val_list.csv', index=False)\n",
        "test_.to_csv('/content/drive/MyDrive/CS6140Dataset/dataset/test_list.csv', index=False)"
      ]
    },
    {
      "cell_type": "code",
      "execution_count": null,
      "metadata": {
        "id": "c0aMk3HVJ6hK"
      },
      "outputs": [],
      "source": [
        "def init_weights(m):\n",
        "  if isinstance(m, nn.Conv2d):\n",
        "      nn.init.kaiming_normal_(m.weight.data, mode='fan_out', nonlinearity='relu')\n",
        "      m.bias.data.fill_(0.01)\n",
        "    "
      ]
    },
    {
      "cell_type": "markdown",
      "source": [
        "Model Implementation - Unet, ResNet"
      ],
      "metadata": {
        "id": "tHcLSowSn3Xy"
      }
    },
    {
      "cell_type": "code",
      "execution_count": null,
      "metadata": {
        "id": "BGlZeVEe_RDq"
      },
      "outputs": [],
      "source": [
        "class DoubleConv(nn.Module):\n",
        "    \n",
        "    def __init__(self, in_ch, out_ch):\n",
        "        super().__init__()\n",
        "        self.conv = nn.Sequential(\n",
        "                        nn.Conv2d(in_ch, out_ch, 3,1,1, bias=False),\n",
        "                        nn.BatchNorm2d(out_ch),\n",
        "                        nn.ReLU(inplace = True),\n",
        "                        nn.Conv2d(out_ch, out_ch, 3,1,1, bias=False),\n",
        "                        nn.BatchNorm2d(out_ch),\n",
        "                        nn.ReLU(inplace = True),\n",
        "                    )\n",
        "    def forward(self, x):\n",
        "        return self.conv(x)"
      ]
    },
    {
      "cell_type": "code",
      "execution_count": 318,
      "metadata": {
        "id": "ICC-iVIG_RDr"
      },
      "outputs": [],
      "source": [
        "class UNET(nn.Module):\n",
        "    \n",
        "    def __init__(self, in_ch = 3, out_ch = 1, features=[32,64,128,256]):\n",
        "        super().__init__()\n",
        "        self.down = nn.ModuleList()\n",
        "        self.up = nn.ModuleList()\n",
        "        self.pool = nn.MaxPool2d(kernel_size = 2, stride = 2)\n",
        "        \n",
        "        #Down\n",
        "        for feature in features:\n",
        "            self.down.append(DoubleConv(in_ch, feature))\n",
        "            in_ch = feature\n",
        "            \n",
        "        #up\n",
        "        for feature in reversed(features):\n",
        "            self.up.append(\n",
        "                nn.ConvTranspose2d(feature*2, feature, kernel_size = 2, stride = 2 )\n",
        "            )\n",
        "            self.up.append(DoubleConv(feature*2, feature))\n",
        "        \n",
        "        self.bottleneck = DoubleConv(features[-1], features[-1]*2)\n",
        "        self.final_conv = nn.Conv2d(features[0], out_ch, kernel_size = 1)\n",
        "        \n",
        "    def forward(self, x):\n",
        "        skip_connection = []\n",
        "        for down in self.down:\n",
        "            x = down(x)\n",
        "            skip_connection.append(x) \n",
        "            x = self.pool(x)\n",
        "        \n",
        "        x = self.bottleneck(x)\n",
        "        \n",
        "        skip_connection = skip_connection[::-1]\n",
        "        \n",
        "        for idx in range(0, len(self.up), 2):\n",
        "            x = self.up[idx](x)\n",
        "            skip_con = skip_connection[idx//2]\n",
        "            if x.shape != skip_con.shape:\n",
        "                x = TF.resize(x,size = skip_con.shape[2:])\n",
        "            concatenate_skip = torch.cat((skip_con,x), dim = 1)\n",
        "            x =self.up[idx+1](concatenate_skip)\n",
        "        \n",
        "        return self.final_conv(x)"
      ]
    },
    {
      "cell_type": "code",
      "execution_count": null,
      "metadata": {
        "id": "MM-DHkee_RDs"
      },
      "outputs": [],
      "source": [
        "def test():\n",
        "    x = torch.rand((3,3,161,161))\n",
        "    model = UNET(in_ch = 3, out_ch = 1)\n",
        "    preds = model(x)\n",
        "    print(preds.shape)\n",
        "    print(x.shape)"
      ]
    },
    {
      "cell_type": "code",
      "execution_count": null,
      "metadata": {
        "id": "BlD0OsGTDKm4"
      },
      "outputs": [],
      "source": [
        "class ResNetUnit(nn.Module):\n",
        "    def __init__(self, in_channels, out_channels, downsample = False):\n",
        "      super().__init__()\n",
        "      self.in_channels = in_channels\n",
        "      self.out_channels = out_channels\n",
        "      if downsample:\n",
        "        self.conv1 = nn.Conv2d(in_channels, out_channels, kernel_size = 3, stride=2, padding=1, bias = False)\n",
        "        self.shortcut = nn.Sequential(\n",
        "                          nn.Conv2d(in_channels, out_channels, kernel_size = 1, stride=2,  bias = False),\n",
        "                          nn.BatchNorm2d(out_channels)\n",
        "                          )\n",
        "      else:\n",
        "        self.conv1 = nn.Conv2d(in_channels, out_channels, kernel_size = 3, stride=1, padding=\"same\", bias = False)\n",
        "        self.shortcut = lambda x:x\n",
        "      \n",
        "      self.batchN1  = nn.BatchNorm2d(out_channels)\n",
        "      self.conv2 = nn.Conv2d(out_channels, out_channels, kernel_size = 3, stride=1, padding=\"same\", bias = False)\n",
        "      self.batchN2  = nn.BatchNorm2d(out_channels)\n",
        "      \n",
        "      self.relu = nn.ReLU()\n",
        "  \n",
        "\n",
        "    def forward(self, x):\n",
        "      identity = self.shortcut(x)\n",
        "      x = self.relu(self.batchN1(self.conv1(x)))\n",
        "      x = self.batchN2(self.conv2(x))\n",
        "      x += identity\n",
        "      return self.relu(x)\n",
        "\n",
        "class ResNet(nn.Module):\n",
        "  def __init__(self, in_channel, out_channels, num_layers): #num_layers = [64, 128, 256,512]\n",
        "    super().__init__()\n",
        "    if len(num_layers) != 3:\n",
        "      raise Exception('Not a valid architecture')\n",
        "    self.init_layer = nn.Sequential(\n",
        "          nn.Conv2d(in_channel, 64, kernel_size = 7 , stride = 2,  padding=3),\n",
        "          nn.BatchNorm2d(64),\n",
        "          nn.ReLU(),\n",
        "          nn.MaxPool2d(kernel_size = 3, stride = 2, padding = 1)\n",
        "    )\n",
        "    #Conv Layer\n",
        "    #1 - 64in 64 out\n",
        "    self.layers64 = self.build_Conv_layers(64, 64, num_layers[0])\n",
        "    #2 - 64in 128 out\n",
        "    self.layers128 = self.build_Conv_layers(128, 128, num_layers[1])\n",
        "    #3 - 128 in 256 out\n",
        "    self.layers256 = self.build_Conv_layers(256, 256, num_layers[2])\n",
        "    #4 - 256 in 512 out\n",
        "    #self.layers512 = self.build_Conv_layers(512, 512, num_layers[3])\n",
        "    # [Batch x 1024 x 4 x 4]\n",
        "    #self.avgpool = nn.AdaptiveAvgPool2d((4,4))\n",
        "    #Deconv Layers\n",
        "    # [Batch x 1024 x 4 x 4] - [Batch x 256 x 16 x 16]\n",
        "    #self.deConv16 = self.build_DeConv_layers(1024, 256, 2)\n",
        "    self.deConv32 = self.build_DeConv_layers(512, 256, 2)\n",
        "    #[Batch x 256 x 16 x 16]- [Batch x 128 x 64 x 64]\n",
        "    #self.deConv64 = self.build_DeConv_layers(256, 128, 2)\n",
        "    self.deConv128 = self.build_DeConv_layers(256, 128, 2)\n",
        "    #[Batch x 128 x 64 x 64] - [Batch x 64 x 256 x 256]\n",
        "    self.deConv256 = self.build_DeConv_layers(128, 64, 2, kernel_size = 2, stride = 2)\n",
        "\n",
        "    #[Batch x 64 x 1 x 62564]\n",
        "    self.fc = nn.Conv2d(64, out_channels, kernel_size = 3, stride=1, padding=\"same\", bias = False)\n",
        "  \n",
        "  def build_Conv_layers(self,in_channel,out_channel, num_layers):\n",
        "    layers = []\n",
        "    for each in range(num_layers - 1):\n",
        "      layers.append(ResNetUnit(out_channel, out_channel))\n",
        "    layers.append(ResNetUnit(out_channel, out_channel*2, downsample = True))\n",
        "    return nn.Sequential(*layers)\n",
        "  \n",
        "  def build_DeConv_layers(self,in_channel,out_channel, num_layers, kernel_size = 4, stride = 4):\n",
        "    layers = [ nn.ConvTranspose2d(in_channel, out_channel , kernel_size = kernel_size, stride = stride )]\n",
        "    for each in range(num_layers - 1):\n",
        "      layers.append(ResNetUnit(out_channel, out_channel))\n",
        "    layers.append(ResNetUnit(out_channel, out_channel))\n",
        "    return nn.Sequential(*layers)\n",
        "  \n",
        "\n",
        "  def forward(self, x):\n",
        "    x = self.init_layer(x)\n",
        "    #conv\n",
        "    x = self.layers64(x)    \n",
        "    x = self.layers128(x)\n",
        "    x = self.layers256(x)\n",
        "    #x = self.layers512(x)\n",
        "    \n",
        "    #deconv\n",
        "    x = self.deConv32(x)\n",
        "    #x = self.deConv16(x)\n",
        "    x = self.deConv128(x)\n",
        "    #x = self.deConv64(x)\n",
        "    x = self.deConv256(x)\n",
        "    return F.sigmoid(self.fc(x))"
      ]
    },
    {
      "cell_type": "code",
      "execution_count": null,
      "metadata": {
        "id": "9oJompkzOih4"
      },
      "outputs": [],
      "source": [
        "class EmptyLayer(nn.Module):\n",
        "  def __init__(self):\n",
        "    super().__init__()\n",
        "  \n",
        "  def forward(self,x):\n",
        "    return x\n",
        "\n",
        "class BasicBlockUpdated(nn.Module):\n",
        "  def __init__(self, in_channels, out_channels, downsample = False):\n",
        "      super().__init__()\n",
        "      self.in_channels = in_channels\n",
        "      self.out_channels = out_channels\n",
        "      self.conv1 = nn.Conv2d(in_channels, out_channels, kernel_size=(3, 3), stride=(1, 1), padding=(1, 1), bias=False)\n",
        "      self.bn1 =  nn.BatchNorm2d(out_channels, eps=1e-05, momentum=0.1, affine=True, track_running_stats=True)\n",
        "      self.relu = nn.ReLU(inplace=True)\n",
        "      self.conv2 = nn.Conv2d(out_channels, out_channels, kernel_size=(3, 3), stride=(1, 1), padding=(1, 1), bias=False)\n",
        "      self.bn2 =  nn.BatchNorm2d(out_channels, eps=1e-05, momentum=0.1, affine=True, track_running_stats=True)\n",
        "    \n",
        "  def forward(self, x):\n",
        "    identity = x\n",
        "    x = self.relu(self.bn1(self.conv1(x)))\n",
        "    x = self.bn2(self.conv2(x))\n",
        "    x += identity\n",
        "    return self.relu(x)\n",
        "\n",
        "class ResNetUpdated(nn.Module):\n",
        "  def __init__(self, in_channel, out_channels, model): #num_layers = [64, 128, 256,512]\n",
        "    super().__init__()\n",
        "    self.resnetmodel = model\n",
        "    \n",
        "    self.deConv16 = self.build_DeConv_layers(512, 256, 2)\n",
        "    #                  self.build_DeConv_layers(512, 256, 2),\n",
        "    #[Batch x 256 x 16 x 16]- [Batch x 128 x 64 x 64]\n",
        "    self.deConv64 = self.build_DeConv_layers(256, 128, 2)\n",
        "    #                 self.build_DeConv_layers(256, 128, 2),\n",
        "    #[Batch x 128 x 64 x 64] - [Batch x 64 x 256 x 256]\n",
        "    #                  self.build_DeConv_layers(128, 64, 2, kernel_size = 2, stride = 2)\n",
        "    self.deConv256 = self.build_DeConv_layers(128, 64, 2, kernel_size = 2, stride = 2)\n",
        "    #[Batch x 64 x 1 x 62564]\n",
        "    self.resnetmodel.avgpool = EmptyLayer()\n",
        "    self.fc = nn.Conv2d(64, out_channels, kernel_size = 3, stride=1, padding=\"same\", bias = False)\n",
        "    self.resnetmodel.fc = EmptyLayer()\n",
        "    self.relu = nn.ReLU()\n",
        "\n",
        "  def build_DeConv_layers(self,in_channel,out_channel, num_layers, kernel_size = 4, stride = 4):\n",
        "    \n",
        "    layers = [ nn.ConvTranspose2d(in_channel, out_channel , kernel_size = kernel_size, stride = stride )]\n",
        "    for each in range(num_layers - 1):\n",
        "      layers.append(BasicBlockUpdated(out_channel, out_channel))\n",
        "    layers.append(BasicBlockUpdated(out_channel, out_channel))\n",
        "    return nn.Sequential(*layers)\n",
        "  \n",
        "\n",
        "  def forward(self, x):\n",
        "    x = self.resnetmodel(x).reshape(x.shape[0], 512,8,8)\n",
        "    #print(x.shape)\n",
        "    x = self.deConv16(x)\n",
        "    x = self.deConv64(x)\n",
        "    x = self.deConv256(x)\n",
        "    x = self.fc(x)\n",
        "    return F.sigmoid(x)"
      ]
    },
    {
      "cell_type": "code",
      "execution_count": null,
      "metadata": {
        "id": "8dQpH-zVRFw-"
      },
      "outputs": [],
      "source": [
        "x = torch.randn(64,3,256,256)\n",
        "net = ResNet(3,1,[3,4,8])\n",
        "net(x).shape"
      ]
    },
    {
      "cell_type": "markdown",
      "source": [
        "Defning Dataset class"
      ],
      "metadata": {
        "id": "5mFX3yD2n_Fj"
      }
    },
    {
      "cell_type": "code",
      "execution_count": 369,
      "metadata": {
        "id": "DPDMuNk7_RDs"
      },
      "outputs": [],
      "source": [
        "def crop(img, size=128):\n",
        "    c1,c2 = img.shape[0] // 2, img.shape[1] // 2\n",
        "    return img[ c1 -size : c1 + size , c2-size : c2 + size ]\n",
        "\n",
        "A_trans_both = A.Compose([\n",
        "     A.ShiftScaleRotate( p=0.25, border_mode= cv2.BORDER_CONSTANT),\n",
        "     A.Flip(p=0.4),\n",
        "     A.RandomCrop(height=256, width=256, p=0.3) \n",
        "])\n",
        "A_trans_img = A.Compose([\n",
        "    A.OneOf([\n",
        "             A.GaussianBlur(p=0.1),\n",
        "             A.GaussNoise(p=0.9),\n",
        "             ], p =0.25),\n",
        "])\n",
        "\n",
        "transform_img = transforms.Compose([\n",
        "                                \n",
        "                                transforms.ToTensor(),\n",
        "                                transforms.Resize((256,256)),\n",
        "                                #transforms.CenterCrop(256),\n",
        "                                transforms.ColorJitter( contrast=(25)),\n",
        "                                transforms.Normalize(mean = [0.5,0.5,0.5], std = [0.5,0.5,0.5]),\n",
        "                                transforms.Grayscale()\n",
        "                                ])\n",
        "\n",
        "transform_msk = transforms.Compose([\n",
        "                                \n",
        "                              transforms.ToTensor(),\n",
        "                               transforms.Resize((256,256)),\n",
        "                                #transforms.CenterCrop(256),\n",
        "                                ])\n",
        "\n",
        "class NucleusDataset(Dataset):\n",
        "    \n",
        "    def __init__(self, root_dir, type_, transform=None):\n",
        "        self.root_dir = root_dir\n",
        "        self.type_ = type_\n",
        "        self.transform = transform\n",
        "        self.dataset = pd.read_csv(f'{root_dir}/dataset/{type_}_list.csv')\n",
        "        self.X, self.Y = [],[]\n",
        "        for idx in range(self.dataset.shape[0]):\n",
        "          img_src = self.dataset.iloc[idx]['img_src']\n",
        "          msk_src = self.dataset.iloc[idx]['mask_src']\n",
        "          img = cv2.imread(f'{self.root_dir}/{img_src[1:]}')\n",
        "\n",
        "          if all( i >=128 for i in img.mean(axis =  (0,1))): \n",
        "            self.X.append(255 - img)\n",
        "          else:\n",
        "            self.X.append(img)\n",
        "          \n",
        "          msk = cv2.imread(f'{self.root_dir}/{msk_src[1:]}',0)\n",
        "          self.Y.append(msk)\n",
        "    \n",
        "    def __len__(self):\n",
        "        return self.dataset.shape[0]\n",
        "\n",
        "    def __getitem__(self, idx):\n",
        "        img_ = self.X[idx]\n",
        "        msk_ = self.Y[idx]\n",
        "        if self.transform:\n",
        "          a1 = A_trans_both(image=img_, mask = msk_)\n",
        "          #img_ = a1['image']\n",
        "          #msk_ = a1['mask']\n",
        "          #a2 = A_trans_img(image = img_)\n",
        "          #img_ = a2['image']\n",
        "          img_ = transform_img(img_)\n",
        "          msk_ = transform_msk(msk_)\n",
        "        return img_, msk_"
      ]
    },
    {
      "cell_type": "code",
      "execution_count": 353,
      "metadata": {
        "id": "fb23a-zSDGq6"
      },
      "outputs": [],
      "source": [
        ""
      ]
    },
    {
      "cell_type": "code",
      "execution_count": 370,
      "metadata": {
        "id": "Tf6G3KGu_RDu"
      },
      "outputs": [],
      "source": [
        "BATCH_SIZE = 16\n",
        "root_dir = '/content/drive/MyDrive/CS6140Dataset/'\n",
        "train_data = NucleusDataset(\n",
        "    root_dir = root_dir,\n",
        "    type_ = 'train',\n",
        "    transform = True\n",
        "    #transform_img = transform_img, transform_msk = transform_msk\n",
        "    #transform_img = crop, transform_msk = crop\n",
        "    \n",
        ")\n",
        "\n",
        "val_data = NucleusDataset(\n",
        "    root_dir = root_dir,\n",
        "    type_ = 'val',\n",
        "    transform = True,\n",
        "    #transform_img = transform_img, transform_msk = transform_msk\n",
        "    #transform_img = crop, transform_msk = crop\n",
        ")\n",
        "test_data = NucleusDataset(\n",
        "    root_dir = root_dir,\n",
        "    type_ = 'test',\n",
        "    transform = True\n",
        "    #transform_img = transform_img, transform_msk = transform_msk\n",
        "    #transform_img = crop, transform_msk = crop\n",
        ")\n",
        "\n",
        "\n",
        "train_dataloader = DataLoader(train_data, batch_size=BATCH_SIZE, shuffle=True,\n",
        "                    pin_memory=True)\n",
        "test_dataloader = DataLoader(test_data, batch_size=BATCH_SIZE, shuffle=True,\n",
        "                    pin_memory=True)\n",
        "val_dataloader = DataLoader(val_data, batch_size=BATCH_SIZE, shuffle=True,\n",
        "                    pin_memory=True)"
      ]
    },
    {
      "cell_type": "markdown",
      "source": [
        "Data analysis"
      ],
      "metadata": {
        "id": "Jz3YOtSDoIHh"
      }
    },
    {
      "cell_type": "code",
      "execution_count": null,
      "metadata": {
        "id": "KAT8LoUoZNLw"
      },
      "outputs": [],
      "source": [
        "imges = torch.empty((0,3,256,256))\n",
        "i = 0\n",
        "for img,mask in train_data:\n",
        "\n",
        "  imges = torch.vstack((imges,img.unsqueeze(0)))\n",
        "  i+=1\n",
        "imges.shape"
      ]
    },
    {
      "cell_type": "code",
      "execution_count": null,
      "metadata": {
        "colab": {
          "base_uri": "https://localhost:8080/"
        },
        "id": "Fm5UQ4HNYmFn",
        "outputId": "3b875c0f-0bcc-4662-cb39-e4e0807feda3"
      },
      "outputs": [
        {
          "data": {
            "text/plain": [
              "(tensor([ 2.8246e-04, -2.7115e-05, -2.2161e-04]),\n",
              " tensor([1.0002, 1.0003, 1.0002]))"
            ]
          },
          "execution_count": 45,
          "metadata": {},
          "output_type": "execute_result"
        }
      ],
      "source": [
        "imges.mean((0,2,3)), imges.std((0,2,3))"
      ]
    },
    {
      "cell_type": "code",
      "execution_count": null,
      "metadata": {
        "id": "ATaprsjpWGnY"
      },
      "outputs": [],
      "source": [
        "norm = transforms.Normalize(mean = [0.0983, 0.1067, 0.1035], std = [0.1555, 0.1590, 0.1494])\n"
      ]
    },
    {
      "cell_type": "markdown",
      "metadata": {
        "id": "vAqd6Jv5o4E-"
      },
      "source": [
        "By plotting the count of pixel values, it can be seen that there are large number of pixels that belong to the \"black\" side, or that do not belong to the nucleus region. However, there is a long range of pixel values that may or may not belong to the nucleus region"
      ]
    },
    {
      "cell_type": "code",
      "execution_count": null,
      "metadata": {
        "colab": {
          "base_uri": "https://localhost:8080/",
          "height": 286
        },
        "id": "dNnJQrhRz_Bu",
        "outputId": "91ab84b1-6253-4348-8d23-bab5ea1c5735"
      },
      "outputs": [
        {
          "data": {
            "text/plain": [
              "<matplotlib.image.AxesImage at 0x7f1f2bdef690>"
            ]
          },
          "execution_count": 156,
          "metadata": {},
          "output_type": "execute_result"
        },
        {
          "data": {
            "image/png": "[encoded data removed]",
            "text/plain": [
              "<Figure size 432x288 with 1 Axes>"
            ]
          },
          "metadata": {},
          "output_type": "display_data"
        }
      ],
      "source": [
        "\n",
        "sample = train_data[0][0].numpy().squeeze()\n",
        "plt.imshow(sample)"
      ]
    },
    {
      "cell_type": "code",
      "execution_count": 352,
      "metadata": {
        "colab": {
          "base_uri": "https://localhost:8080/",
          "height": 285
        },
        "id": "5Aq9OY8vZ-4w",
        "outputId": "1e6f90e3-be9d-4985-9368-d81ef50519c2"
      },
      "outputs": [
        {
          "output_type": "execute_result",
          "data": {
            "text/plain": [
              "[<matplotlib.lines.Line2D at 0x7f49f61af090>]"
            ]
          },
          "metadata": {},
          "execution_count": 352
        },
        {
          "output_type": "display_data",
          "data": {
            "text/plain": [
              "<Figure size 432x288 with 1 Axes>"
            ],
            "image/png": "[encoded data removed]"
          },
          "metadata": {}
        }
      ],
      "source": [
        "X, Y = torch.unique(imgs,  return_counts=True)\n",
        "plt.plot(X,Y)"
      ]
    },
    {
      "cell_type": "code",
      "execution_count": null,
      "metadata": {
        "id": "jX__3WDEZuZ6"
      },
      "outputs": [],
      "source": [
        "X,Y1= torch.unique((imgs*255).int().permute(1,0,2,3)[0], return_counts=True)\n",
        "X,Y2 = torch.unique((imgs*255).int().permute(1,0,2,3)[1], return_counts=True)\n",
        "X,Y3 = torch.unique((imgs*255).int().permute(1,0,2,3)[2], return_counts=True)\n",
        "df = pd.DataFrame({ 'RED': Y1,'BLUE':Y3,'GREEN':Y2})\n",
        "\n",
        "sns.lineplot(data=df, dashes=False, palette=['r', 'b','g'])\n",
        "plt.xlabel('Pixel')\n",
        "plt.ylabel('Count')"
      ]
    },
    {
      "cell_type": "code",
      "source": [
        "imgs.shape"
      ],
      "metadata": {
        "colab": {
          "base_uri": "https://localhost:8080/"
        },
        "id": "NJpmyM77qvmX",
        "outputId": "f9488cd8-0f61-4b8c-8ec9-9ef5e36fc0d7"
      },
      "execution_count": 331,
      "outputs": [
        {
          "output_type": "execute_result",
          "data": {
            "text/plain": [
              "torch.Size([402, 3, 256, 256])"
            ]
          },
          "metadata": {},
          "execution_count": 331
        }
      ]
    },
    {
      "cell_type": "code",
      "execution_count": 372,
      "metadata": {
        "id": "zE0fqjz7ZseD",
        "colab": {
          "base_uri": "https://localhost:8080/",
          "height": 296
        },
        "outputId": "69ddb123-3cc2-4385-8887-0d0941897326"
      },
      "outputs": [
        {
          "output_type": "execute_result",
          "data": {
            "text/plain": [
              "[<matplotlib.lines.Line2D at 0x7f4c0d7b86d0>]"
            ]
          },
          "metadata": {},
          "execution_count": 372
        },
        {
          "output_type": "display_data",
          "data": {
            "text/plain": [
              "<Figure size 432x288 with 1 Axes>"
            ],
            "image/png": "[encoded data removed]"
          },
          "metadata": {}
        }
      ],
      "source": [
        "X, Y = torch.unique(imgs,  return_counts=True)\n",
        "plt.plot(X,Y)"
      ]
    },
    {
      "cell_type": "markdown",
      "metadata": {
        "id": "9O5r8PgHp_4p"
      },
      "source": [
        "We can apply another transformation to bring in contrast, that can help us get more distinction between nucleus region and non nucleus region"
      ]
    },
    {
      "cell_type": "code",
      "execution_count": null,
      "metadata": {
        "colab": {
          "base_uri": "https://localhost:8080/",
          "height": 286
        },
        "id": "4ZUzzJgRxk9x",
        "outputId": "74fce6ca-900f-4887-bf3a-524ce9f5c0bb"
      },
      "outputs": [
        {
          "data": {
            "text/plain": [
              "<matplotlib.image.AxesImage at 0x7f1f2c832690>"
            ]
          },
          "execution_count": 109,
          "metadata": {},
          "output_type": "execute_result"
        },
        {
          "data": {
            "image/png": "[encoded data removed]",
            "text/plain": [
              "<Figure size 432x288 with 1 Axes>"
            ]
          },
          "metadata": {},
          "output_type": "display_data"
        }
      ],
      "source": [
        "#sample= transforms.functional.adjust_contrast(train_data[0][0],contrast_factor=60).numpy().squeeze()\n"
      ]
    },
    {
      "cell_type": "markdown",
      "metadata": {
        "id": "r8p1L38s4r82"
      },
      "source": [
        "Image analysis - contrast transformation:\n",
        "If we apply a high contrast transformation on the images, we can see that there is a clear distinct line on the train dataset that can divide the nucleus and non nuclues regions. "
      ]
    },
    {
      "cell_type": "code",
      "execution_count": 371,
      "metadata": {
        "id": "UQiStebgp_DS"
      },
      "outputs": [],
      "source": [
        "imgs = torch.empty(0,1,256,256)\n",
        "msks = torch.empty(0,1,256,256)\n",
        "for img,msk in train_dataloader:\n",
        "  #print(img.shape)\n",
        "  imgs = torch.concat((imgs, img), dim = 0)\n",
        "  msks = torch.concat((msks, msk), dim = 0)"
      ]
    },
    {
      "cell_type": "code",
      "execution_count": 328,
      "metadata": {
        "colab": {
          "base_uri": "https://localhost:8080/",
          "height": 394
        },
        "id": "ESED3YgqSz29",
        "outputId": "a36f9276-1d20-4044-c26b-7ede9b502744"
      },
      "outputs": [
        {
          "output_type": "display_data",
          "data": {
            "text/plain": [
              "<Figure size 576x432 with 1 Axes>"
            ],
            "image/png": "[encoded data removed]"
          },
          "metadata": {}
        }
      ],
      "source": [
        "A = (msks.int() == 0).sum()\n",
        "B = (msks.int() == 1).sum()\n",
        "A_ = A/(A+B)\n",
        "B_ = B/(A+B)\n",
        "sns.set_theme()\n",
        "plt.figure(figsize=(8, 6))\n",
        "sns.set_palette(sns.color_palette(\"flare\"))\n",
        "box = pd.DataFrame({'Percent':[A_.item(),B_.item()], 'Type':['Background','Nucleus']})\n",
        "splot = sns.barplot(data = box, x = 'Type', y='Percent')"
      ]
    },
    {
      "cell_type": "code",
      "execution_count": null,
      "metadata": {
        "colab": {
          "base_uri": "https://localhost:8080/",
          "height": 340
        },
        "id": "4Yu-qlsGWwmA",
        "outputId": "4b4001fe-ba97-4d2c-fa42-e4f93921d5b7"
      },
      "outputs": [
        {
          "data": {
            "image/png": "[encoded data removed]",
            "text/plain": [
              "<Figure size 288x360 with 1 Axes>"
            ]
          },
          "metadata": {},
          "output_type": "display_data"
        }
      ],
      "source": [
        "plt.figure(figsize=(4, 5))\n",
        " \n",
        "# Defining the values for x-axis, y-axis\n",
        "# and from which dataframe the values are to be picked\n",
        "plots = sns.barplot(data = box, x = 'Type', y='Percent')\n",
        " \n",
        "# Iterrating over the bars one-by-one\n",
        "g = [int(A),int(B)]\n",
        "for i,p in enumerate(plots.patches):\n",
        "    plots.annotate(format(g[i]), \n",
        "                   (p.get_x() + p.get_width() / 2., p.get_height()), \n",
        "                   ha = 'center', va = 'center', \n",
        "                   xytext = (0, -9), \n",
        "                   textcoords = 'offset points')\n",
        " \n",
        "# Setting the label for x-axis\n",
        "plt.xlabel(\"Type\", size=14)\n",
        " \n",
        "# Setting the label for y-axis\n",
        "plt.ylabel(\"Percentage\", size=14)\n",
        " \n",
        "# Setting the title for the graph\n",
        "\n",
        " \n",
        "# Finally showing the plot\n",
        "plt.show() "
      ]
    },
    {
      "cell_type": "code",
      "execution_count": null,
      "metadata": {
        "id": "HshIgVzcWi-W"
      },
      "outputs": [],
      "source": [
        "g = [A,B]\n",
        "for i,p in enumerate(splot.patches):\n",
        "    splot.annotate(format(g[i], '.1f'), \n",
        "                   (p.get_x() + p.get_width() / 2., p.get_height()), \n",
        "                   ha = 'center', va = 'center', \n",
        "                   xytext = (0, -9), \n",
        "                   textcoords = 'offset points')\n",
        "\n",
        "sns.show()"
      ]
    },
    {
      "cell_type": "code",
      "execution_count": null,
      "metadata": {
        "colab": {
          "base_uri": "https://localhost:8080/",
          "height": 286
        },
        "id": "eXGLr8ttz0k6",
        "outputId": "a3303aa6-aeef-4bbb-f100-e073743f1ddf"
      },
      "outputs": [
        {
          "data": {
            "text/plain": [
              "<matplotlib.image.AxesImage at 0x7f1f2bbda210>"
            ]
          },
          "execution_count": 162,
          "metadata": {},
          "output_type": "execute_result"
        },
        {
          "data": {
            "image/png": "[encoded data removed]",
            "text/plain": [
              "<Figure size 432x288 with 1 Axes>"
            ]
          },
          "metadata": {},
          "output_type": "display_data"
        }
      ],
      "source": [
        "sample = train_data[0][0].numpy().squeeze()\n",
        "plt.imshow(sample)"
      ]
    },
    {
      "cell_type": "markdown",
      "source": [
        "Implementation of IoU metric and different Losses"
      ],
      "metadata": {
        "id": "GoOIta3doMVw"
      }
    },
    {
      "cell_type": "code",
      "execution_count": null,
      "metadata": {
        "id": "njM6XZT3FlXX"
      },
      "outputs": [],
      "source": [
        "def get_iou(A,B, smooth = 1):\n",
        "\n",
        "    I = torch.logical_and(A.view(-1),B.view(-1)).float().sum()\n",
        "    U = torch.logical_or(A.view(-1),B.view(-1)).float().sum()\n",
        "    return (I + smooth)/ (U + smooth)\n",
        "\n",
        "def get_acc(A,B, smooth = 0.1):\n",
        "  num = (A == B).sum()\n",
        "  denum = A.numel()\n",
        "  return num/denum\n",
        "\n",
        "def get_IoU(A,B, smooth = 0.1):\n",
        "  I = torch.logical_and(A,B).sum()\n",
        "  U = torch.logical_or(A,B).sum()\n",
        "  return (I+smooth)/(U+smooth)\n",
        "    \n",
        "class DiceLoss(nn.Module):\n",
        "    \n",
        "    def __init__(self):\n",
        "        super().__init__()\n",
        "        \n",
        "    def forward(self, target,inputs):\n",
        "        smooth = 1.\n",
        "\n",
        "        iflat = inputs.view(-1)\n",
        "        tflat = target.view(-1)\n",
        "        intersection = (iflat * tflat).sum()\n",
        "        \n",
        "        return -torch.log(((2. * intersection + smooth) /\n",
        "                  (iflat.sum()**2 + tflat.sum()**2 + smooth))).requires_grad_()\n",
        "\n",
        "class IoULoss(nn.Module):\n",
        "    \n",
        "    def __init__(self):\n",
        "        super().__init__()\n",
        "        \n",
        "    def forward(self, target,inputs):\n",
        "               \n",
        "        return  (1 - get_IoU(target,inputs)).requires_grad_()\n",
        "\n",
        "\n",
        "class DiceBCELoss(nn.Module):\n",
        "    \n",
        "    def __init__(self):\n",
        "        super().__init__()\n",
        "        \n",
        "    def forward(self, inputs, target):\n",
        "        #loss = super().forward(target,input)\n",
        "        loss = F.binary_cross_entropy(inputs, target)\n",
        "        smooth = 1\n",
        "        I = torch.logical_and(target,inputs).sum() +1\n",
        "        U = (target**2).sum() + (inputs**2).sum() + 1\n",
        "        \n",
        "        return loss + 1 - I/U\n",
        "\n",
        "class FocalLoss(nn.Module):\n",
        "    def __init__(self,\n",
        "                        alpha: float = 0.25,\n",
        "                        gamma: float = 2,\n",
        "                        reduction: str = \"mean\",):\n",
        "        super().__init__()\n",
        "        self.alpha = alpha \n",
        "        self.gamma = gamma\n",
        "        self.reduction = reduction\n",
        "        \n",
        "    def forward(self, inputs, target):\n",
        "        #loss = super().forward(target,input)\n",
        "        p = inputs\n",
        "        ce_loss = F.binary_cross_entropy(inputs, target, reduction=\"none\")\n",
        "        p_t = p * target + (1 - p) * (1 - target)\n",
        "        loss = ce_loss * ((1 - p_t) ** self.gamma)\n",
        "\n",
        "        if self.alpha >= 0:\n",
        "            alpha_t = self.alpha * target + (1 - self.alpha) * (1 - target)\n",
        "            loss = alpha_t * loss\n",
        "\n",
        "        if self.reduction == \"mean\":\n",
        "            loss = loss.mean()\n",
        "        elif self.reduction == \"sum\":\n",
        "            loss = loss.sum()\n",
        "        return loss"
      ]
    },
    {
      "cell_type": "markdown",
      "metadata": {
        "id": "9RSX0-s87V0Y"
      },
      "source": [
        "Evaluation Metric:\n",
        "\n",
        "The evaluation metric for the segmentation problem can be tricky. To go with the most common one the accuracy score where accuracy of an image j can be given as:\n",
        "$$\n",
        "a_j = \\frac{T_j \\cap G_j}{T_j} \n",
        "$$\n",
        "$$\\text{Where }T_j\\text{ is the actual mask or label for the image and } G_j \\text{ is the predicted labels or mask for the image}$$\n",
        "However this can be a very biased metric, because in our dataset most of the images have a large black region and through the example below, we can see that even if the model labels all the pixel as zero that is belonging to negative class, we can still get nearly 82% accuracy."
      ]
    },
    {
      "cell_type": "code",
      "execution_count": null,
      "metadata": {
        "colab": {
          "base_uri": "https://localhost:8080/"
        },
        "id": "ZRw_Bcnfz2cd",
        "outputId": "7ae39b7e-3f08-4963-e801-197c06ec0d0c"
      },
      "outputs": [
        {
          "data": {
            "text/plain": [
              "tensor(1.)"
            ]
          },
          "execution_count": 190,
          "metadata": {},
          "output_type": "execute_result"
        }
      ],
      "source": [
        "_ , sample_mask = next(iter(train_dataloader))\n",
        "shape = sample_mask.shape\n",
        "get_acc(sample_mask,sample_mask)"
      ]
    },
    {
      "cell_type": "code",
      "execution_count": null,
      "metadata": {
        "colab": {
          "base_uri": "https://localhost:8080/"
        },
        "id": "-aapAo703_S6",
        "outputId": "f1367dff-b44a-43cd-b3be-aa287f07aa74"
      },
      "outputs": [
        {
          "name": "stdout",
          "output_type": "stream",
          "text": [
            "torch.Size([128, 1, 256, 256])\n"
          ]
        },
        {
          "data": {
            "text/plain": [
              "tensor(0.8667)"
            ]
          },
          "execution_count": 178,
          "metadata": {},
          "output_type": "execute_result"
        }
      ],
      "source": [
        "_ , sample_mask = next(iter(train_dataloader))\n",
        "black_image = torch.zeros(sample_mask.shape)\n",
        "print(black_image.shape)\n",
        "get_acc(sample_mask,black_image)"
      ]
    },
    {
      "cell_type": "markdown",
      "metadata": {
        "id": "n-ZzNIVK9WRy"
      },
      "source": [
        "Hence, another popular metric for such problems is to use IoU score, which is Intersection of Union or mean IoU score.\n",
        "where IoU of an image j can be given as:\n",
        "$$\n",
        "a_j = \\frac{T_j \\cap G_j +\\epsilon}{T_j \\cup G_j + \\epsilon} \n",
        "$$\n",
        "$$\\text{Where }T_j\\text{ is the actual mask or label for the image and } G_j \\text{ is the predicted labels or mask for the image and } \\epsilon \\text{ is a small smoothening factor to avoid division by zero}$$\n",
        "This metric is senitive to the Positive class.\n"
      ]
    },
    {
      "cell_type": "code",
      "execution_count": null,
      "metadata": {
        "colab": {
          "base_uri": "https://localhost:8080/"
        },
        "id": "oKOg78AO9Td8",
        "outputId": "10fabc15-24d2-46fe-cec7-f0e2f7b7bf38"
      },
      "outputs": [
        {
          "name": "stdout",
          "output_type": "stream",
          "text": [
            "torch.Size([128, 1, 256, 256])\n"
          ]
        },
        {
          "data": {
            "text/plain": [
              "tensor(1.)"
            ]
          },
          "execution_count": 180,
          "metadata": {},
          "output_type": "execute_result"
        }
      ],
      "source": [
        "_ , sample_mask = next(iter(train_dataloader))\n",
        "print(sample_mask.shape)\n",
        "get_IoU(sample_mask,sample_mask)"
      ]
    },
    {
      "cell_type": "code",
      "execution_count": null,
      "metadata": {
        "colab": {
          "base_uri": "https://localhost:8080/"
        },
        "id": "SmfarCZq3rhY",
        "outputId": "67156a99-3761-43cc-90b2-fa3e98f8c0eb"
      },
      "outputs": [
        {
          "name": "stdout",
          "output_type": "stream",
          "text": [
            "torch.Size([128, 1, 256, 256])\n"
          ]
        },
        {
          "data": {
            "text/plain": [
              "tensor(8.7264e-08)"
            ]
          },
          "execution_count": 176,
          "metadata": {},
          "output_type": "execute_result"
        }
      ],
      "source": [
        "_ , sample_mask = next(iter(train_dataloader))\n",
        "black_image = torch.zeros(sample_mask.shape)\n",
        "print(black_image.shape)\n",
        "get_IoU(sample_mask,black_image)"
      ]
    },
    {
      "cell_type": "markdown",
      "metadata": {
        "id": "wODLra31-zlG"
      },
      "source": [
        "Baseline Model\n",
        "For the baseline model, we will simply use the observation from train dataset and define a boundary factor $$\\alpha = 0.5$$ such that if for Normalized Pixel value i in image j $$P_{ij} \\in [-1,1]_{i=1}^{N}, \\forall j$$,\n",
        "$$\n",
        "y_{ij} =\\begin{cases}\n",
        "         1 & P_{ij} \\geq α\\\\\n",
        "         0 & P_{ij}  < α\n",
        "        \\end{cases}       \n",
        "$$ \n",
        "$$\\text{where } y_{ij} \\text{ is the label assigned to pixel i in imgae j } $$ \n"
      ]
    },
    {
      "cell_type": "code",
      "execution_count": null,
      "metadata": {
        "colab": {
          "base_uri": "https://localhost:8080/"
        },
        "id": "3mzrO5msNg56",
        "outputId": "13d9b3f5-3b0f-4999-dc60-42029cf5c4ed"
      },
      "outputs": [
        {
          "data": {
            "text/plain": [
              "tensor(0.3028)"
            ]
          },
          "execution_count": 57,
          "metadata": {},
          "output_type": "execute_result"
        }
      ],
      "source": [
        "l = FocalLoss()\n",
        "A = torch.rand(1,256,256)\n",
        "B = torch.randint(2,(1,256,256)).float()\n",
        "l(A,B)"
      ]
    },
    {
      "cell_type": "markdown",
      "source": [
        "Defining Naive Threshold model"
      ],
      "metadata": {
        "id": "qonmPmrWoQ5Q"
      }
    },
    {
      "cell_type": "code",
      "execution_count": 343,
      "metadata": {
        "id": "nBummPkA-ww1"
      },
      "outputs": [],
      "source": [
        "class ThresholdModel:\n",
        "\n",
        "  def __init__(self, alpha):\n",
        "    self.alpha = alpha\n",
        "\n",
        "  def forward(self, image):\n",
        "    return (image>self.alpha).float()"
      ]
    },
    {
      "cell_type": "code",
      "execution_count": 344,
      "metadata": {
        "id": "5FA2hc84-yVU"
      },
      "outputs": [],
      "source": [
        "def runner(model, dataloader, shape):\n",
        "  target = torch.empty(shape)\n",
        "  mask = torch.empty(shape)\n",
        "  for img, msk in dataloader:\n",
        "    target = torch.concat((target,model.forward(img)),dim=0)\n",
        "    mask = torch.concat((mask,msk),dim=0)\n",
        "  print(f'accuracy of the model {get_acc(target,mask):0.6f}')\n",
        "  print(f'IoU of the model {get_IoU(target,mask):0.6f}')"
      ]
    },
    {
      "cell_type": "code",
      "execution_count": 379,
      "metadata": {
        "colab": {
          "base_uri": "https://localhost:8080/"
        },
        "id": "s_jB_YWN4n6X",
        "outputId": "75f15ac8-c32f-47bb-abbc-1c67aaa15b1e"
      },
      "outputs": [
        {
          "output_type": "stream",
          "name": "stdout",
          "text": [
            "accuracy of the model 0.868828\n",
            "IoU of the model 0.516663\n",
            "accuracy of the model 0.845310\n",
            "IoU of the model 0.505594\n",
            "accuracy of the model 0.827798\n",
            "IoU of the model 0.474431\n"
          ]
        }
      ],
      "source": [
        "model = ThresholdModel(-0.7)\n",
        "shape = (16,1,256,256)\n",
        "runner(model, train_dataloader, shape)\n",
        "runner(model, test_dataloader, shape)\n",
        "runner(model, val_dataloader, shape)"
      ]
    },
    {
      "cell_type": "markdown",
      "source": [
        "Training and Testing fucntions"
      ],
      "metadata": {
        "id": "GtVFdDJqoYB_"
      }
    },
    {
      "cell_type": "code",
      "execution_count": 317,
      "metadata": {
        "id": "YIVzE0ec_RDu"
      },
      "outputs": [],
      "source": [
        "def train(model,criterion, train_dataloader, val_dataloader, EPOCH=50, lr=0.005, momentum=0.9, checkpoint = 10):\n",
        "    optimizer = optim.SGD(model.parameters(), lr = lr, momentum = momentum)\n",
        "    scheduler = optim.lr_scheduler.ReduceLROnPlateau(optimizer, 'min', threshold=1e-3)\n",
        "    #criterion = IoULoss()#.to(device)\n",
        "    #criterion = DiceLoss().to(device)\n",
        "    \n",
        "    dataset = []\n",
        "    \n",
        "    for i,epoch in enumerate(tqdm(range(EPOCH))):\n",
        "        model.train()\n",
        "        acc_tr = 0\n",
        "        loss_tr = 0\n",
        "        total_tr = 0\n",
        "        tt = 0 \n",
        "        for X,label in train_dataloader:\n",
        "            X = X.to(device)\n",
        "            label = label.to(device)\n",
        "\n",
        "            optimizer.zero_grad()\n",
        "            out = model(X)\n",
        "           \n",
        "            loss = criterion(out,label)\n",
        "            loss.backward()\n",
        "            optimizer.step()\n",
        "            acc_tr += get_IoU((out > 0.5).float(),label).item()\n",
        "            loss_tr += loss.item()\n",
        "            total_tr += label.size(0)\n",
        "            tt += 1\n",
        "        acc_tr = acc_tr/tt\n",
        "        loss_tr = loss_tr/total_tr\n",
        "        \n",
        "        model.eval()\n",
        "        acc_ts = 0\n",
        "        loss_ts = 0\n",
        "        total_ts = 0\n",
        "        tt = 0\n",
        "        for X,label in val_dataloader:\n",
        "            X = X.to(device)\n",
        "            label = label.to(device)\n",
        "\n",
        "            out = model(X)\n",
        "           \n",
        "            loss = criterion(out,label)\n",
        "            acc_ts += get_IoU((out > 0.5).float(),label)\n",
        "            loss_ts += loss\n",
        "            total_ts += label.size(0)\n",
        "            tt += 1\n",
        "        acc_ts = acc_ts/ tt\n",
        "        loss_ts = (loss_ts/total_ts).item()\n",
        "        scheduler.step(acc_ts)\n",
        "        acc_ts = acc_ts.item()\n",
        "        if i%checkpoint == 0:\n",
        "            print(f'tr_loss: {loss_tr : .4f} tr_iou : {acc_tr: .4f} val_loss: {loss_ts : .4f} val_iou : {acc_ts : .4f}' )\n",
        "        dataset.append((loss_tr,acc_tr,loss_ts,acc_ts))\n",
        "    return dataset\n"
      ]
    },
    {
      "cell_type": "code",
      "execution_count": 310,
      "metadata": {
        "id": "iuyWLU72dO2a"
      },
      "outputs": [],
      "source": [
        "def test(model, criterion, val_dataloader):\n",
        "     \n",
        "    model.eval()\n",
        "    acc_ts = 0\n",
        "    loss_ts = 0\n",
        "    total_ts = 0\n",
        "    tt = 0\n",
        "    for X,label in val_dataloader:\n",
        "        X = X.to(device)\n",
        "        label = label.to(device)\n",
        "        out = model(X)\n",
        "        loss = criterion(out,label)\n",
        "        acc_ts += get_IoU((out > 0.5).float(),label).item()\n",
        "        loss_ts += loss.item()\n",
        "        total_ts += label.size(0)\n",
        "        tt += 1\n",
        "    acc_ts = acc_ts/ tt\n",
        "    loss_ts = loss_ts/total_ts\n",
        "    print(f'test_loss: {loss_ts : .4f} test_iou : {acc_ts : .4f}' )"
      ]
    },
    {
      "cell_type": "markdown",
      "source": [
        "Experitments"
      ],
      "metadata": {
        "id": "HWMzXlIVob9d"
      }
    },
    {
      "cell_type": "markdown",
      "source": [
        "Unet"
      ],
      "metadata": {
        "id": "E3n7nmjFoqSH"
      }
    },
    {
      "cell_type": "code",
      "execution_count": null,
      "metadata": {
        "id": "-EzUUs-r_RDv"
      },
      "outputs": [],
      "source": [
        "model = UNET(in_ch = 3, out_ch = 1, features = [8,16,32,64,128,256,512]).to(device)\n",
        "#pos_weight = torch.tensor([22754627/3590845])\n",
        "criterion = nn.BCEWithLogitsLoss().to(device)\n",
        "#criterion =FocalLoss().to(device)\n",
        "#criterion = DiceBCELoss().to(device)\n",
        "init_weights(model)\n",
        "dataset = train(model,criterion,train_dataloader, val_dataloader, EPOCH=151, lr=0.005, momentum=0.9, checkpoint=5)\n",
        "test(model, criterion, test_dataloader)\n",
        "df = pd.DataFrame(dataset, columns = ['tr_loss','tr_iou','val_loss','val_iou'])\n",
        "df.to_csv(root_dir+'results/results_UNET_32_256_norm.csv')\n",
        "torch.save(model, root_dir+'Models/results_UNET_32_256_norm')"
      ]
    },
    {
      "cell_type": "code",
      "execution_count": null,
      "metadata": {
        "colab": {
          "base_uri": "https://localhost:8080/",
          "height": 284
        },
        "id": "z0ySDarGOpaq",
        "outputId": "9e166c35-e80a-4f9a-d9b8-b8fa2e2f4e46"
      },
      "outputs": [
        {
          "data": {
            "text/plain": [
              "<matplotlib.axes._subplots.AxesSubplot at 0x7f4c06e2c990>"
            ]
          },
          "execution_count": 128,
          "metadata": {},
          "output_type": "execute_result"
        },
        {
          "data": {
            "image/png": "[encoded data removed]",
            "text/plain": [
              "<Figure size 432x288 with 1 Axes>"
            ]
          },
          "metadata": {},
          "output_type": "display_data"
        }
      ],
      "source": [
        "\n",
        "#sns.lineplot(data=df[['tr_iou','val_iou']], dashes=False)\n",
        "sns.lineplot(data=df[['tr_loss','val_loss']], dashes=False)"
      ]
    },
    {
      "cell_type": "markdown",
      "source": [
        "ResNet"
      ],
      "metadata": {
        "id": "tzVy-XMQoorX"
      }
    },
    {
      "cell_type": "code",
      "execution_count": null,
      "metadata": {
        "colab": {
          "base_uri": "https://localhost:8080/"
        },
        "id": "U0yQfCpM_RDv",
        "outputId": "486a2ef8-be14-408a-e3c3-9b5949983c34"
      },
      "outputs": [
        {
          "name": "stderr",
          "output_type": "stream",
          "text": [
            "  2%|▏         | 1/66 [09:09<9:54:56, 549.18s/it]"
          ]
        },
        {
          "name": "stdout",
          "output_type": "stream",
          "text": [
            "tr_loss:  0.0329 tr_iou :  0.0038 val_loss:  0.5408 val_iou :  0.0000\n"
          ]
        },
        {
          "name": "stderr",
          "output_type": "stream",
          "text": [
            "  9%|▉         | 6/66 [11:17<55:30, 55.51s/it]  "
          ]
        },
        {
          "name": "stdout",
          "output_type": "stream",
          "text": [
            "tr_loss:  0.0200 tr_iou :  0.0065 val_loss:  0.0207 val_iou :  0.0006\n"
          ]
        },
        {
          "name": "stderr",
          "output_type": "stream",
          "text": [
            " 17%|█▋        | 11/66 [13:24<27:36, 30.11s/it]"
          ]
        },
        {
          "name": "stdout",
          "output_type": "stream",
          "text": [
            "tr_loss:  0.0187 tr_iou :  0.4391 val_loss:  0.0286 val_iou :  0.2439\n"
          ]
        },
        {
          "name": "stderr",
          "output_type": "stream",
          "text": [
            " 24%|██▍       | 16/66 [15:32<21:55, 26.31s/it]"
          ]
        },
        {
          "name": "stdout",
          "output_type": "stream",
          "text": [
            "tr_loss:  0.0136 tr_iou :  0.5114 val_loss:  0.0133 val_iou :  0.6025\n"
          ]
        },
        {
          "name": "stderr",
          "output_type": "stream",
          "text": [
            " 32%|███▏      | 21/66 [17:40<19:15, 25.67s/it]"
          ]
        },
        {
          "name": "stdout",
          "output_type": "stream",
          "text": [
            "tr_loss:  0.0114 tr_iou :  0.5567 val_loss:  0.0166 val_iou :  0.5644\n"
          ]
        },
        {
          "name": "stderr",
          "output_type": "stream",
          "text": [
            " 39%|███▉      | 26/66 [19:48<17:02, 25.57s/it]"
          ]
        },
        {
          "name": "stdout",
          "output_type": "stream",
          "text": [
            "tr_loss:  0.0092 tr_iou :  0.6404 val_loss:  0.0120 val_iou :  0.6239\n"
          ]
        },
        {
          "name": "stderr",
          "output_type": "stream",
          "text": [
            " 47%|████▋     | 31/66 [21:55<14:54, 25.56s/it]"
          ]
        },
        {
          "name": "stdout",
          "output_type": "stream",
          "text": [
            "tr_loss:  0.0091 tr_iou :  0.6478 val_loss:  0.0106 val_iou :  0.6573\n"
          ]
        },
        {
          "name": "stderr",
          "output_type": "stream",
          "text": [
            " 55%|█████▍    | 36/66 [24:05<12:57, 25.93s/it]"
          ]
        },
        {
          "name": "stdout",
          "output_type": "stream",
          "text": [
            "tr_loss:  0.0091 tr_iou :  0.6616 val_loss:  0.0120 val_iou :  0.6678\n"
          ]
        },
        {
          "name": "stderr",
          "output_type": "stream",
          "text": [
            " 62%|██████▏   | 41/66 [26:13<10:40, 25.60s/it]"
          ]
        },
        {
          "name": "stdout",
          "output_type": "stream",
          "text": [
            "tr_loss:  0.0078 tr_iou :  0.6947 val_loss:  0.0091 val_iou :  0.6990\n"
          ]
        },
        {
          "name": "stderr",
          "output_type": "stream",
          "text": [
            " 70%|██████▉   | 46/66 [28:20<08:29, 25.45s/it]"
          ]
        },
        {
          "name": "stdout",
          "output_type": "stream",
          "text": [
            "tr_loss:  0.0106 tr_iou :  0.6225 val_loss:  0.0125 val_iou :  0.5856\n"
          ]
        },
        {
          "name": "stderr",
          "output_type": "stream",
          "text": [
            " 77%|███████▋  | 51/66 [30:27<06:22, 25.47s/it]"
          ]
        },
        {
          "name": "stdout",
          "output_type": "stream",
          "text": [
            "tr_loss:  0.0071 tr_iou :  0.7130 val_loss:  0.0094 val_iou :  0.7237\n"
          ]
        },
        {
          "name": "stderr",
          "output_type": "stream",
          "text": [
            " 85%|████████▍ | 56/66 [32:34<04:14, 25.45s/it]"
          ]
        },
        {
          "name": "stdout",
          "output_type": "stream",
          "text": [
            "tr_loss:  0.0064 tr_iou :  0.7450 val_loss:  0.0091 val_iou :  0.6506\n"
          ]
        },
        {
          "name": "stderr",
          "output_type": "stream",
          "text": [
            " 92%|█████████▏| 61/66 [34:41<02:06, 25.40s/it]"
          ]
        },
        {
          "name": "stdout",
          "output_type": "stream",
          "text": [
            "tr_loss:  0.0146 tr_iou :  0.5756 val_loss:  0.0151 val_iou :  0.5089\n"
          ]
        },
        {
          "name": "stderr",
          "output_type": "stream",
          "text": [
            "100%|██████████| 66/66 [36:48<00:00, 33.46s/it]"
          ]
        },
        {
          "name": "stdout",
          "output_type": "stream",
          "text": [
            "tr_loss:  0.0060 tr_iou :  0.7655 val_loss:  0.0111 val_iou :  0.6645\n"
          ]
        },
        {
          "name": "stderr",
          "output_type": "stream",
          "text": [
            "\n"
          ]
        }
      ],
      "source": [
        "device = torch.device(\"cuda\" if torch.cuda.is_available() else \"cpu\")\n",
        "model = ResNet(3,1, [3,4,9]).to(device)\n",
        "init_weights(model)\n",
        "dataset = train(model,train_dataloader, val_dataloader, EPOCH=66, lr=0.01, momentum=0.9, checkpoint=5)\n",
        "df = pd.DataFrame(dataset, columns = ['tr_loss','tr_iou','val_loss','val_iou'])\n",
        "df.to_csv('results_RESNET_IOU2.csv')"
      ]
    },
    {
      "cell_type": "markdown",
      "source": [
        "Pretrained UNet"
      ],
      "metadata": {
        "id": "3zMmzQlsol4h"
      }
    },
    {
      "cell_type": "code",
      "execution_count": null,
      "metadata": {
        "colab": {
          "base_uri": "https://localhost:8080/"
        },
        "id": "b7JfhPhlFv5k",
        "outputId": "8b686d4e-e51d-4932-98b5-14a10ea9028e"
      },
      "outputs": [
        {
          "name": "stderr",
          "output_type": "stream",
          "text": [
            "Downloading: \"https://github.com/mateuszbuda/brain-segmentation-pytorch/archive/master.zip\" to /root/.cache/torch/hub/master.zip\n",
            "Downloading: \"https://github.com/mateuszbuda/brain-segmentation-pytorch/releases/download/v1.0/unet-e012d006.pt\" to /root/.cache/torch/hub/checkpoints/unet-e012d006.pt\n"
          ]
        }
      ],
      "source": [
        "\n",
        "model = torch.hub.load('mateuszbuda/brain-segmentation-pytorch', 'unet',\n",
        "    in_channels=3, out_channels=1, init_features=32, pretrained=True)"
      ]
    },
    {
      "cell_type": "code",
      "execution_count": null,
      "metadata": {
        "colab": {
          "base_uri": "https://localhost:8080/"
        },
        "id": "A7vEf441yoK9",
        "outputId": "49ba0c66-d572-42f7-fa5c-9da9b016b56b"
      },
      "outputs": [
        {
          "name": "stderr",
          "output_type": "stream",
          "text": [
            "  4%|▍         | 1/26 [00:11<04:51, 11.64s/it]"
          ]
        },
        {
          "name": "stdout",
          "output_type": "stream",
          "text": [
            "tr_loss:  0.0297 tr_iou :  0.4035 val_loss:  0.0260 val_iou :  0.3537\n"
          ]
        },
        {
          "name": "stderr",
          "output_type": "stream",
          "text": [
            " 23%|██▎       | 6/26 [01:07<03:42, 11.12s/it]"
          ]
        },
        {
          "name": "stdout",
          "output_type": "stream",
          "text": [
            "tr_loss:  0.0074 tr_iou :  0.7168 val_loss:  0.0071 val_iou :  0.7574\n"
          ]
        },
        {
          "name": "stderr",
          "output_type": "stream",
          "text": [
            " 42%|████▏     | 11/26 [02:03<02:50, 11.39s/it]"
          ]
        },
        {
          "name": "stdout",
          "output_type": "stream",
          "text": [
            "tr_loss:  0.0065 tr_iou :  0.7447 val_loss:  0.0081 val_iou :  0.6994\n"
          ]
        },
        {
          "name": "stderr",
          "output_type": "stream",
          "text": [
            " 62%|██████▏   | 16/26 [02:59<01:51, 11.20s/it]"
          ]
        },
        {
          "name": "stdout",
          "output_type": "stream",
          "text": [
            "tr_loss:  0.0056 tr_iou :  0.7703 val_loss:  0.0102 val_iou :  0.6246\n"
          ]
        },
        {
          "name": "stderr",
          "output_type": "stream",
          "text": [
            " 73%|███████▎  | 19/26 [03:32<01:18, 11.16s/it]"
          ]
        }
      ],
      "source": [
        "model = model.to(device)\n",
        "criterion = nn.BCELoss().to(device)\n",
        "dataset = train(model,criterion,train_dataloader, val_dataloader, EPOCH=26, lr=0.01, momentum=0.9, checkpoint=5)\n",
        "test(model, criterion, test_dataloader)\n",
        "df = pd.DataFrame(dataset, columns = ['tr_loss','tr_iou','val_loss','val_iou'])\n",
        "df.to_csv(root_dir+'results/results_PRETRAINED_UNET_32_256_IOU.csv')\n",
        "torch.save(model, root_dir+'Models/results_PRETRAINED_UNET_32_256_IOU')"
      ]
    },
    {
      "cell_type": "markdown",
      "source": [
        "Pretrained ResNet"
      ],
      "metadata": {
        "id": "sSyWVGgnosuX"
      }
    },
    {
      "cell_type": "code",
      "execution_count": null,
      "metadata": {
        "colab": {
          "base_uri": "https://localhost:8080/"
        },
        "id": "GWJhK4m0zxC1",
        "outputId": "297c9de2-75c8-4b11-e525-1b6180c15cae"
      },
      "outputs": [
        {
          "name": "stderr",
          "output_type": "stream",
          "text": [
            "  4%|▍         | 1/26 [00:25<10:35, 25.43s/it]"
          ]
        },
        {
          "name": "stdout",
          "output_type": "stream",
          "text": [
            "tr_loss:  0.0334 tr_iou :  0.0050 val_loss:  0.0303 val_iou :  0.0000\n"
          ]
        },
        {
          "name": "stderr",
          "output_type": "stream",
          "text": [
            " 23%|██▎       | 6/26 [02:23<07:52, 23.60s/it]"
          ]
        },
        {
          "name": "stdout",
          "output_type": "stream",
          "text": [
            "tr_loss:  0.0197 tr_iou :  0.1722 val_loss:  0.0300 val_iou :  0.1298\n"
          ]
        },
        {
          "name": "stderr",
          "output_type": "stream",
          "text": [
            " 42%|████▏     | 11/26 [04:20<05:52, 23.53s/it]"
          ]
        },
        {
          "name": "stdout",
          "output_type": "stream",
          "text": [
            "tr_loss:  0.0146 tr_iou :  0.3935 val_loss:  0.0168 val_iou :  0.4966\n"
          ]
        },
        {
          "name": "stderr",
          "output_type": "stream",
          "text": [
            " 62%|██████▏   | 16/26 [06:18<03:55, 23.53s/it]"
          ]
        },
        {
          "name": "stdout",
          "output_type": "stream",
          "text": [
            "tr_loss:  0.0117 tr_iou :  0.5109 val_loss:  0.0146 val_iou :  0.4889\n"
          ]
        },
        {
          "name": "stderr",
          "output_type": "stream",
          "text": [
            " 81%|████████  | 21/26 [08:15<01:57, 23.52s/it]"
          ]
        },
        {
          "name": "stdout",
          "output_type": "stream",
          "text": [
            "tr_loss:  0.0111 tr_iou :  0.5314 val_loss:  0.0135 val_iou :  0.5635\n"
          ]
        },
        {
          "name": "stderr",
          "output_type": "stream",
          "text": [
            "100%|██████████| 26/26 [10:13<00:00, 23.59s/it]"
          ]
        },
        {
          "name": "stdout",
          "output_type": "stream",
          "text": [
            "tr_loss:  0.0100 tr_iou :  0.5947 val_loss:  0.0126 val_iou :  0.5814\n"
          ]
        },
        {
          "name": "stderr",
          "output_type": "stream",
          "text": [
            "\n"
          ]
        },
        {
          "name": "stdout",
          "output_type": "stream",
          "text": [
            "test_loss:  0.0120 test_iou :  0.4626\n"
          ]
        }
      ],
      "source": [
        "model = ResNetUpdated(3,1,  models.resnet34(pretrained = True)).to(device)\n",
        "criterion = nn.BCELoss().to(device)\n",
        "dataset = train(model,criterion,train_dataloader, val_dataloader, EPOCH=26, lr=0.01, momentum=0.9, checkpoint=5)\n",
        "test(model, criterion, test_dataloader)\n",
        "df = pd.DataFrame(dataset, columns = ['tr_loss','tr_iou','val_loss','val_iou'])\n",
        "df.to_csv(root_dir+'results/results_PRETRAINED_UNET_RESNET34_IOU.csv')\n",
        "torch.save(model, root_dir+'Models/results_PRETRAINED_RESNET34_IOU')"
      ]
    },
    {
      "cell_type": "code",
      "execution_count": null,
      "metadata": {
        "id": "yk_8lzuD35oK"
      },
      "outputs": [],
      "source": [
        ""
      ]
    },
    {
      "cell_type": "code",
      "execution_count": null,
      "metadata": {
        "id": "KRrmG4QW15zG"
      },
      "outputs": [],
      "source": [
        ""
      ]
    },
    {
      "cell_type": "code",
      "execution_count": null,
      "metadata": {
        "id": "rusVD8d8dIn-"
      },
      "outputs": [],
      "source": [
        ""
      ]
    }
  ],
  "metadata": {
    "accelerator": "GPU",
    "colab": {
      "collapsed_sections": [],
      "machine_shape": "hm",
      "name": "SpotNucleiSpeedCure.ipynb",
      "provenance": []
    },
    "kernelspec": {
      "display_name": "Python 3",
      "language": "python",
      "name": "python3"
    },
    "language_info": {
      "codemirror_mode": {
        "name": "ipython",
        "version": 3
      },
      "file_extension": ".py",
      "mimetype": "text/x-python",
      "name": "python",
      "nbconvert_exporter": "python",
      "pygments_lexer": "ipython3",
      "version": "3.6.10"
    }
  },
  "nbformat": 4,
  "nbformat_minor": 0
}